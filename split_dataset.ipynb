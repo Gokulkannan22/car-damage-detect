{
 "cells": [
  {
   "cell_type": "code",
   "execution_count": 1,
   "id": "790a2a75-b830-4351-9707-852561685e3c",
   "metadata": {},
   "outputs": [],
   "source": [
    "import os\n",
    "import shutil\n",
    "import random\n",
    "from pathlib import Path\n"
   ]
  },
  {
   "cell_type": "code",
   "execution_count": 2,
   "id": "d5967604-3255-4850-b914-de8eaf8a9b16",
   "metadata": {},
   "outputs": [
    {
     "name": "stdout",
     "output_type": "stream",
     "text": [
      "✅ Dataset split completed!\n"
     ]
    }
   ],
   "source": [
    "SOURCE = Path(\"dataset\")  # after unzip\n",
    "DEST = Path(\"split_dataset\")\n",
    "\n",
    "ratios = [0.7, 0.2, 0.1]  # train, val, test\n",
    "\n",
    "for split in [\"train\", \"val\", \"test\"]:\n",
    "    for folder in SOURCE.iterdir():\n",
    "        (DEST/split/folder.name).mkdir(parents=True, exist_ok=True)\n",
    "\n",
    "for folder in SOURCE.iterdir():\n",
    "    images = list(folder.glob(\"*.jpg\"))\n",
    "    random.shuffle(images)\n",
    "    n = len(images)\n",
    "    train, val = int(ratios[0]*n), int((ratios[0]+ratios[1])*n)\n",
    "\n",
    "    for i, img in enumerate(images):\n",
    "        if i < train: target = \"train\"\n",
    "        elif i < val: target = \"val\"\n",
    "        else: target = \"test\"\n",
    "        shutil.copy(img, DEST/target/folder.name/img.name)\n",
    "\n",
    "print(\"✅ Dataset split completed!\")"
   ]
  },
  {
   "cell_type": "code",
   "execution_count": null,
   "id": "da88a2fe-0ac8-46b9-ac1c-1019b1bec577",
   "metadata": {},
   "outputs": [],
   "source": []
  }
 ],
 "metadata": {
  "kernelspec": {
   "display_name": "Python 3 (ipykernel)",
   "language": "python",
   "name": "python3"
  },
  "language_info": {
   "codemirror_mode": {
    "name": "ipython",
    "version": 3
   },
   "file_extension": ".py",
   "mimetype": "text/x-python",
   "name": "python",
   "nbconvert_exporter": "python",
   "pygments_lexer": "ipython3",
   "version": "3.12.7"
  }
 },
 "nbformat": 4,
 "nbformat_minor": 5
}
